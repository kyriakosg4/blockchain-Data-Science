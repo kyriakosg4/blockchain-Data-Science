{
 "cells": [
  {
   "cell_type": "code",
   "execution_count": null,
   "id": "e4238662-511d-498f-9c52-14edf8087988",
   "metadata": {},
   "outputs": [],
   "source": [
    "# Import Libraries\n",
    "import os\n",
    "import web3\n",
    "import asyncio\n",
    "\n",
    "# Import funnctions from logic python files \n",
    "from logic.fetch_blocks import fetch_and_save_chunks\n",
    "from logic.decode_userops import decode_all_userops_from_dir\n",
    "from logic.decode_userops import append_native_value_to_userops\n",
    "from logic.cluster_errors import (\n",
    "    extract_all_error_transactions,\n",
    "    cluster_from_block_errors,\n",
    "    cluster_from_userops\n",
    ")\n",
    "from logic.visualize import visualize_userop_failures\n",
    "from logic.faucet_click_analysis import generate_faucet_summary\n",
    "from logic.faucet_visualize import plot_faucet_metrics\n",
    "from logic.wallet_behavior import generate_wallet_behavior_summary\n",
    "\n"
   ]
  },
  {
   "cell_type": "code",
   "execution_count": null,
   "id": "b4d8ab9b-9b1a-40c5-95c9-c7e46f82b8aa",
   "metadata": {},
   "outputs": [],
   "source": [
    "# State variables\n",
    "start_block = 1280000\n",
    "end_block=1300000\n",
    "rpc_url = \"https://archive.testnet.incentiv.net\"\n",
    "chunck_size = 10000\n",
    "batch_size=100\n",
    "start_time=\"2025-06-12 23:13:09\"\n",
    "end_time=\"2025-06-30 07:53:09\"\n",
    "faucet_address=\"0x2feb013e33513d1f379b726011c950cae50fdd0a\"\n",
    "method_id=\"b03630d7\""
   ]
  },
  {
   "cell_type": "code",
   "execution_count": null,
   "id": "02276f70-ffc0-4e85-b76a-e32d699c4110",
   "metadata": {},
   "outputs": [],
   "source": [
    "# Create the blocks folder which will store the block level csv files\n",
    "\n",
    "os.makedirs(\"blocks\", exist_ok=True)\n",
    "\n",
    "await fetch_and_save_chunks(\n",
    "    rpc_url=rpc_url,\n",
    "    chunk_size=chunck_size,\n",
    "    batch_size=batch_size,\n",
    "    initial_chunk_number=1,\n",
    "    output_dir=\"./blocks\",\n",
    "    start_block=start_block,\n",
    "    end_block=end_block\n",
    ")\n"
   ]
  },
  {
   "cell_type": "code",
   "execution_count": null,
   "id": "29b03c3f-2aa2-4d0b-a555-fdf01ea84291",
   "metadata": {},
   "outputs": [],
   "source": [
    "# Create the user ops csv files, data for each user operation individually which demonstrates every action from a wallet account\n",
    "\n",
    "await decode_all_userops_from_dir(\n",
    "    input_dir=\"blocks\",\n",
    "    rpc_url=rpc_url,\n",
    "    output_dir=\"uops\",\n",
    "    batch_siz=batch_size\n",
    ")"
   ]
  },
  {
   "cell_type": "code",
   "execution_count": null,
   "id": "43039262-2c5c-4d08-9983-02ab7cbabdd7",
   "metadata": {},
   "outputs": [],
   "source": [
    "# Adds an extrac column of native value, if it has been used, inside the user ops csv files\n",
    "\n",
    "append_native_value_to_userops(\n",
    "    folder=\"uops\",\n",
    "    rpc_url=rpc_url\n",
    ")\n"
   ]
  },
  {
   "cell_type": "code",
   "execution_count": null,
   "id": "b4afde52-bd17-43b2-ba1d-5edb1cb4ab3a",
   "metadata": {},
   "outputs": [],
   "source": [
    "# Create the error summary file for block level\n",
    "\n",
    "# Step 1: Extract error transactions\n",
    "extract_all_error_transactions()\n",
    "\n",
    "# Step 2: Only cluster if the error file exists\n",
    "if os.path.exists(\"data/all_error_transactions.csv\"):\n",
    "    cluster_from_block_errors()\n",
    "else:\n",
    "    print(\"⚠️ No error transactions to cluster from block errors.\")\n",
    "\n",
    "# Step 3: Cluster from user operations (this is safe)\n",
    "cluster_from_userops()"
   ]
  },
  {
   "cell_type": "code",
   "execution_count": null,
   "id": "8679879e-0ceb-46de-8b03-8e1809e9555d",
   "metadata": {},
   "outputs": [],
   "source": [
    "# Visualizations regarding the failed user ops\n",
    "\n",
    "visualize_userop_failures(\n",
    "    sender_csv=\"data/summary_failures_per_sender.csv\",\n",
    "    bundler_csv=\"data/summary_failures_per_bundler.csv\",\n",
    "    paymaster_csv=\"data/summary_failures_per_paymaster.csv\",\n",
    "    output_prefix=\"final\",\n",
    "    start_block=start_block,\n",
    "    end_block = end_block,\n",
    "    start_time=start_time,\n",
    "    end_time= end_time,\n",
    "    output_dir=\"visualizations\"\n",
    ")\n"
   ]
  },
  {
   "cell_type": "code",
   "execution_count": null,
   "id": "1112fb1e-1043-4151-8df1-4419c7ecb2aa",
   "metadata": {},
   "outputs": [],
   "source": [
    "# Generates the faucet summary (clicks, average time etc.)\n",
    "\n",
    "generate_faucet_summary(\n",
    "    rpc_url=rpc_url,\n",
    "    faucet_address=faucet_address,\n",
    "    method_id=method_id,\n",
    "    start_block=start_block,\n",
    "    end_block=end_block\n",
    ")"
   ]
  },
  {
   "cell_type": "code",
   "execution_count": null,
   "id": "e0c826b8-2790-4fea-8e2d-d3648b981185",
   "metadata": {},
   "outputs": [],
   "source": [
    "# Plots for faucet analysis \n",
    "plot_faucet_metrics()\n"
   ]
  },
  {
   "cell_type": "code",
   "execution_count": null,
   "id": "175f462e-ac19-4e55-bcb0-1ecbea4bb14e",
   "metadata": {},
   "outputs": [],
   "source": [
    "# Generates a csv file, which is analyzing each sender account and helps identify which of them are bots\n",
    "\n",
    "generate_wallet_behavior_summary()\n"
   ]
  }
 ],
 "metadata": {
  "kernelspec": {
   "display_name": "Python (blockchain-tools)",
   "language": "python",
   "name": "blockchain-tools"
  },
  "language_info": {
   "codemirror_mode": {
    "name": "ipython",
    "version": 3
   },
   "file_extension": ".py",
   "mimetype": "text/x-python",
   "name": "python",
   "nbconvert_exporter": "python",
   "pygments_lexer": "ipython3",
   "version": "3.11.13"
  }
 },
 "nbformat": 4,
 "nbformat_minor": 5
}
